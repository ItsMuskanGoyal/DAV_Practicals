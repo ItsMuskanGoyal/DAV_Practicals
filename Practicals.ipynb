{
 "cells": [
  {
   "cell_type": "code",
   "execution_count": 1,
   "metadata": {},
   "outputs": [],
   "source": [
    "import numpy as np\n",
    "import matplotlib as plt\n",
    "import pandas as pd"
   ]
  },
  {
   "cell_type": "markdown",
   "metadata": {},
   "source": [
    "We are going to use Titanic main dataset to do all the analysis"
   ]
  },
  {
   "cell_type": "code",
   "execution_count": 2,
   "metadata": {},
   "outputs": [],
   "source": [
    "path= \"/Users/user/Documents/Codes/Python/pydata-book/datasets/titanic/train.csv\""
   ]
  },
  {
   "cell_type": "code",
   "execution_count": 3,
   "metadata": {},
   "outputs": [
    {
     "name": "stdout",
     "output_type": "stream",
     "text": [
      "(3, 2, 3)\n",
      "(2, 3)\n"
     ]
    }
   ],
   "source": [
    "# how to declare a numpy array\n",
    "arr0 = np.array(5)\n",
    "arr1 = np.array([5])\n",
    "arr2 = np.array([1,2,3,4,5])\n",
    "arr3= np.array([[1,2,3,4,5],[5,4,3,2,1]])\n",
    "# make a 3d array\n",
    "arr4 = np.array([[[1,2,3],[3,4,5]],[[5,6,7],[7,8,9]],[[1,2,3],[3,4,5]]])\n",
    "# column 3rd, rows 2 and depth 3 means depth then rows and then columns\n",
    "# make an array with 2 rows, 3 columns and 4 depth\n",
    "arr5 = np.array([[1,2,3],[3,4,5]])\n",
    "arr6 = np.array([[1,2,3,4],[3,5,6,7]])\n",
    "arr1.shape\n",
    "arr2.shape\n",
    "arr3.shape\n",
    "print (arr4.shape)\n",
    "print (arr5.shape)\n"
   ]
  },
  {
   "cell_type": "markdown",
   "metadata": {},
   "source": [
    "NumPy array: Creating NumPy arrays, various\n",
    "data types of NumPy arrays\n",
    "Indexing and slicing, swapping axes, transposing\n",
    "arrays, data processing using Numpy arrays"
   ]
  },
  {
   "cell_type": "code",
   "execution_count": 4,
   "metadata": {},
   "outputs": [
    {
     "name": "stdout",
     "output_type": "stream",
     "text": [
      "[ 4 12 20 28]\n",
      "[[0.96793138 0.62990356 0.59552061 0.42453702 0.55464527]\n",
      " [0.1071658  0.63585443 0.1960698  0.70188148 0.30037152]\n",
      " [0.81690626 0.37330267 0.11171077 0.63236117 0.66226731]\n",
      " [0.85992238 0.57180563 0.22728962 0.64731687 0.96988344]]\n",
      "[[ 0.14919607 -0.06500385 -0.39338214  0.65072267  0.11581272]\n",
      " [-1.01241138  0.29331531  0.1966607  -1.34531337 -1.05448519]\n",
      " [-0.40430045  0.60745732 -1.17727691  0.62923503  0.57662205]\n",
      " [-0.53929641 -1.28208586 -0.26227557 -2.67570459  0.18004591]]\n",
      "[[[32 22 13]\n",
      "  [11 36 10]]\n",
      "\n",
      " [[16 14 38]\n",
      "  [21 34 20]]\n",
      "\n",
      " [[29 32 29]\n",
      "  [32 15 16]]\n",
      "\n",
      " [[25 33 13]\n",
      "  [39 10 17]]]\n"
     ]
    }
   ],
   "source": [
    "# creating various numpy arrays\n",
    "# create an array of zeros\n",
    "arr7= np.zeros((3,4))\n",
    "# create an array of ones\n",
    "arr8= np.ones((4,5))\n",
    "# create an array of empty\n",
    "arr9= np.empty((3,4))\n",
    "# create an array of range\n",
    "arr10= np.arange(4,30,8)\n",
    "print(arr10)\n",
    "\n",
    "# creating an array of random numbers\n",
    "arr11= np.random.random((4,5))\n",
    "print(arr11)\n",
    "\n",
    "# creating an array of random numbers with a normal distribution\n",
    "arr12= np.random.randn(4,5)\n",
    "print(arr12)\n",
    "# creating an array of random numbers in a range\n",
    "arr13= np.random.randint(4,40,(4,2,3)) \n",
    "# Depth then rows and then columns as per the convention\n",
    "print (arr13)"
   ]
  },
  {
   "cell_type": "code",
   "execution_count": 5,
   "metadata": {},
   "outputs": [
    {
     "data": {
      "text/plain": [
       "array([[ 6, 14, 13,  8],\n",
       "       [ 8, 11,  4, 18]])"
      ]
     },
     "execution_count": 5,
     "metadata": {},
     "output_type": "execute_result"
    }
   ],
   "source": [
    "# Creating array with all data types\n",
    "arr14= np.random.randint(1,20,(2,4))\n",
    "arr14"
   ]
  },
  {
   "cell_type": "code",
   "execution_count": 6,
   "metadata": {},
   "outputs": [
    {
     "name": "stdout",
     "output_type": "stream",
     "text": [
      "On index : 0 value is: 8\n",
      "On index : 1 value is: 10\n",
      "On index : 2 value is: 17\n",
      "On index : 3 value is: 13\n",
      "On index : 4 value is: 1\n",
      "On index : 5 value is: 9\n",
      "On index : 6 value is: 18\n",
      "On index : 7 value is: 14\n",
      "On index : 8 value is: 8\n",
      "On index : 9 value is: 13\n"
     ]
    }
   ],
   "source": [
    "seq_2 = np.random.randint(1,20,10)\n",
    "\n",
    "for i in range(len(seq_2)):\n",
    "    print(\"On index :\", i,\"value is:\", seq_2[i])"
   ]
  },
  {
   "cell_type": "code",
   "execution_count": null,
   "metadata": {},
   "outputs": [],
   "source": []
  },
  {
   "cell_type": "markdown",
   "metadata": {},
   "source": [
    "Indexing and slicing, swapping axes, transposing\n",
    "arrays, data processing using Numpy arrays"
   ]
  },
  {
   "cell_type": "code",
   "execution_count": 7,
   "metadata": {},
   "outputs": [
    {
     "name": "stdout",
     "output_type": "stream",
     "text": [
      "[[ 6 17 13  3 10]\n",
      " [ 3 16 12 12 15]\n",
      " [ 2  4 16  4 17]\n",
      " [ 7 16 18  6  2]]\n",
      "[ 3 16 12 12 15]\n",
      "12\n",
      "12\n",
      "[[ 3 16 12 12 15]\n",
      " [ 2  4 16  4 17]]\n",
      "[[12 12]\n",
      " [16  4]]\n",
      "[17 13 16 12 12 15 16 17 16 18]\n",
      "[6 3 3 2 4 4 7 6 2]\n",
      "[[ 3 16 12 12 15]\n",
      " [ 2  4 16  4 17]\n",
      " [ 7 16 18  6  2]]\n",
      "[12  4  2]\n",
      "[[12 12 15]\n",
      " [16  4 17]\n",
      " [18  6  2]]\n"
     ]
    }
   ],
   "source": [
    "# indexing and slicing\n",
    "arr15= np.random.randint(1,20,(4,5))\n",
    "print(arr15)\n",
    "print(arr15[1])\n",
    "print(arr15[1][2])\n",
    "print(arr15[1,2])\n",
    "print(arr15[1:3])\n",
    "print(arr15[1:3,2:4])\n",
    "\n",
    "# boolean indexing\n",
    "print(arr15[arr15>10])\n",
    "print(arr15[arr15<10])\n",
    "\n",
    "# fancy indexing\n",
    "print(arr15[[1,2,3]])\n",
    "print(arr15[[1,2,3],[2,3,4]])\n",
    "print(arr15[[1,2,3]][:,[2,3,4]])\n",
    "\n"
   ]
  },
  {
   "cell_type": "code",
   "execution_count": 8,
   "metadata": {},
   "outputs": [
    {
     "name": "stdout",
     "output_type": "stream",
     "text": [
      "[[ 9 15 17 18 19]\n",
      " [15  5 16  9 12]\n",
      " [ 2  9  4  4  9]\n",
      " [12  3 10  5 17]\n",
      " [14 14  5  4 13]]\n",
      "[[ 5 16]\n",
      " [ 9  4]]\n",
      "[[5 9]\n",
      " [9 4]]\n",
      "[[ 5 16]\n",
      " [ 3 10]]\n",
      "[5 5]\n",
      "[[5 9]\n",
      " [3 5]]\n"
     ]
    }
   ],
   "source": [
    "# Slicing \n",
    "# 1. Slicing with arrays\n",
    "arr16= np.random.randint(1,20,(5,5))\n",
    "print(arr16)\n",
    "arr16[1:3]\n",
    "print(arr16[1:3,1:3])\n",
    "print(arr16[1:3,[1,3]])\n",
    "print(arr16[[1,3],1:3])\n",
    "print(arr16[[1,3],[1,3]])\n",
    "print(arr16[[1,3]][:,[1,3]])\n"
   ]
  },
  {
   "cell_type": "code",
   "execution_count": 9,
   "metadata": {},
   "outputs": [
    {
     "name": "stdout",
     "output_type": "stream",
     "text": [
      "[[10 10 13 16]\n",
      " [ 3 14  5 14]\n",
      " [ 9  5 19 14]]\n",
      "[[10  3  9]\n",
      " [10 14  5]\n",
      " [13  5 19]\n",
      " [16 14 14]]\n",
      "[[10  3  9]\n",
      " [10 14  5]\n",
      " [13  5 19]\n",
      " [16 14 14]]\n",
      "[[10  3  9]\n",
      " [10 14  5]\n",
      " [13  5 19]\n",
      " [16 14 14]]\n",
      "[[10 10 13 16  3 14]\n",
      " [ 5 14  9  5 19 14]]\n"
     ]
    }
   ],
   "source": [
    "#swapping axes, transposing and reshaping\n",
    "arr17= np.random.randint(1,20,(3,4))\n",
    "print(arr17)\n",
    "print(arr17.T)\n",
    "print(arr17.transpose())\n",
    "print(arr17.swapaxes(0,1))\n",
    "print(arr17.reshape(2,6))\n",
    "\n",
    "\n"
   ]
  },
  {
   "cell_type": "code",
   "execution_count": 10,
   "metadata": {},
   "outputs": [
    {
     "name": "stdout",
     "output_type": "stream",
     "text": [
      "[[ 6 16 15  8]\n",
      " [12  8 10  9]\n",
      " [18  6 11  3]]\n",
      "[[ 4  9 11  6]\n",
      " [ 1 12  2  2]\n",
      " [12 18  5 13]]\n",
      "[[ 6 16 15  8]\n",
      " [12  8 10  9]\n",
      " [18  6 11  3]\n",
      " [ 4  9 11  6]\n",
      " [ 1 12  2  2]\n",
      " [12 18  5 13]]\n",
      "[[ 6 16 15  8  4  9 11  6]\n",
      " [12  8 10  9  1 12  2  2]\n",
      " [18  6 11  3 12 18  5 13]]\n"
     ]
    }
   ],
   "source": [
    "# concatenating arrays\n",
    "arr18= np.random.randint(1,20,(3,4))\n",
    "arr19= np.random.randint(1,20,(3,4))\n",
    "print(arr18)\n",
    "print(arr19)\n",
    "print(np.concatenate([arr18,arr19]))\n",
    "print(np.concatenate([arr18,arr19],axis=1))\n"
   ]
  },
  {
   "cell_type": "code",
   "execution_count": 11,
   "metadata": {},
   "outputs": [
    {
     "name": "stdout",
     "output_type": "stream",
     "text": [
      "[[ 6 19 15 19]\n",
      " [16 14  9  4]\n",
      " [12 16  4 15]]\n",
      "[]\n",
      "[[ 6 19 15 19]]\n",
      "[[16 14  9  4]\n",
      " [12 16  4 15]]\n"
     ]
    }
   ],
   "source": [
    "# splitting arrays\n",
    "arr20= np.random.randint(1,20,(3,4))\n",
    "print(arr20)\n",
    "arr21,arr22,arr23= np.split(arr20,[0,1])\n",
    "print(arr21)\n",
    "print(arr22)\n",
    "print(arr23)"
   ]
  },
  {
   "cell_type": "code",
   "execution_count": 12,
   "metadata": {},
   "outputs": [
    {
     "name": "stdout",
     "output_type": "stream",
     "text": [
      "[[13 15  7  2]\n",
      " [10 14  2  1]\n",
      " [ 7  1 16 11]]\n",
      "[[ 1 17  4  4]\n",
      " [15  1 18  3]\n",
      " [ 9  5 10 10]]\n",
      "[[13 15  7  2]\n",
      " [10 14  2  1]\n",
      " [ 7  1 16 11]\n",
      " [ 1 17  4  4]\n",
      " [15  1 18  3]\n",
      " [ 9  5 10 10]]\n",
      "[[13 15  7  2  1 17  4  4]\n",
      " [10 14  2  1 15  1 18  3]\n",
      " [ 7  1 16 11  9  5 10 10]]\n"
     ]
    }
   ],
   "source": [
    "# stacking arrays\n",
    "arr24= np.random.randint(1,20,(3,4))\n",
    "arr25= np.random.randint(1,20,(3,4))\n",
    "print(arr24)\n",
    "print(arr25)\n",
    "print(np.vstack([arr24,arr25]))\n",
    "print(np.hstack([arr24,arr25]))"
   ]
  },
  {
   "cell_type": "code",
   "execution_count": 13,
   "metadata": {},
   "outputs": [
    {
     "name": "stdout",
     "output_type": "stream",
     "text": [
      "[[19 19 11  1]\n",
      " [10  9  5 19]\n",
      " [ 2  4 15 17]]\n",
      "[[4.35889894 4.35889894 3.31662479 1.        ]\n",
      " [3.16227766 3.         2.23606798 4.35889894]\n",
      " [1.41421356 2.         3.87298335 4.12310563]]\n",
      "[[1.78482301e+08 1.78482301e+08 5.98741417e+04 2.71828183e+00]\n",
      " [2.20264658e+04 8.10308393e+03 1.48413159e+02 1.78482301e+08]\n",
      " [7.38905610e+00 5.45981500e+01 3.26901737e+06 2.41549528e+07]]\n",
      "19\n",
      "1\n",
      "10.916666666666666\n",
      "10.5\n",
      "6.550551291473278\n",
      "131\n",
      "[ 19  38  49  50  60  69  74  93  95  99 114 131]\n",
      "[         19         361        3971        3971       39710      357390\n",
      "     1786950    33952050    67904100   271616400  4074246000 69262182000]\n",
      "[[ 1 11 19 19]\n",
      " [ 5  9 10 19]\n",
      " [ 2  4 15 17]]\n",
      "[ 1  2  4  5  9 10 11 15 17 19]\n",
      "[ True  True False  True  True]\n",
      "[1 2 4 5]\n",
      "[ 1  2  3  4  5  9 10 11 15 17 19]\n",
      "[3]\n",
      "[ 3  9 10 11 15 17 19]\n"
     ]
    }
   ],
   "source": [
    "\n",
    "# universal functions\n",
    "arr26= np.random.randint(1,20,(3,4))\n",
    "print(arr26)\n",
    "print(np.sqrt(arr26))\n",
    "print(np.exp(arr26))\n",
    "print(np.max(arr26))\n",
    "print(np.min(arr26))\n",
    "print(np.mean(arr26))\n",
    "print(np.median(arr26))\n",
    "print(np.std(arr26))\n",
    "print(np.sum(arr26))\n",
    "print(np.cumsum(arr26))\n",
    "print(np.cumprod(arr26))\n",
    "print(np.sort(arr26))\n",
    "print(np.unique(arr26))\n",
    "print(np.in1d([1,2,3,4,5],arr26))\n",
    "print(np.intersect1d([1,2,3,4,5],arr26))\n",
    "print(np.union1d([1,2,3,4,5],arr26))\n",
    "print(np.setdiff1d([1,2,3,4,5],arr26))\n",
    "print(np.setxor1d([1,2,3,4,5],arr26))\n"
   ]
  },
  {
   "cell_type": "code",
   "execution_count": 27,
   "metadata": {},
   "outputs": [],
   "source": [
    "# arr27 = np.array([1,2,3,4,5,6,7,8,9,10])\n",
    "# arr28 = np.array([99,88,77,66])\n",
    "# arr29 = arr27.flatten()\n",
    "# # Concatenating arrays\n",
    "# arr_concat = np.concatenate((arr28, arr29))\n",
    "\n",
    "# # Splitting arrays\n",
    "# arr_split = np.split(arr_concat, 2)\n",
    "\n",
    "# # Appending values to an array\n",
    "# arr_append = np.append(arr27, [[10, 11, 12, 13]], axis=0)\n",
    "\n",
    "# # Inserting values into an array\n",
    "# arr_insert = np.insert(arr28, 1, [100, 200, 300], axis=0) \n",
    "# print(arr_insert)\n",
    "\n",
    "# # Deleting elements from an array\n",
    "# arr_delete = np.delete(arr28, 1, axis=1)\n",
    "# print(arr_delete)\n",
    "# print(arr_concat)\n",
    "# print(arr_split)\n",
    "# print(arr_append)\n",
    "# print(arr_insert)\n",
    "\n"
   ]
  },
  {
   "cell_type": "code",
   "execution_count": null,
   "metadata": {},
   "outputs": [],
   "source": []
  },
  {
   "cell_type": "markdown",
   "metadata": {},
   "source": [
    "## Let's do Unit 4 "
   ]
  },
  {
   "cell_type": "code",
   "execution_count": 37,
   "metadata": {},
   "outputs": [
    {
     "data": {
      "text/plain": [
       "(array([1., 0., 0., 0., 0., 0., 0., 0., 0., 0., 1., 0., 0., 1., 0., 0., 2.,\n",
       "        1., 0., 0., 1., 0., 2., 0., 1., 1., 1., 0., 2., 0., 0., 4., 1., 3.,\n",
       "        3., 3., 2., 3., 1., 6., 4., 0., 5., 2., 1., 0., 3., 2., 4., 1., 2.,\n",
       "        1., 2., 3., 1., 2., 1., 3., 1., 2., 2., 0., 0., 2., 2., 2., 0., 1.,\n",
       "        1., 2., 1., 0., 0., 0., 1., 0., 2., 0., 0., 0., 0., 0., 0., 0., 0.,\n",
       "        1., 0., 2., 0., 0., 0., 0., 0., 0., 0., 0., 0., 0., 0., 1.]),\n",
       " array([-2.36583002, -2.31493573, -2.26404144, -2.21314715, -2.16225286,\n",
       "        -2.11135857, -2.06046428, -2.00956999, -1.9586757 , -1.90778141,\n",
       "        -1.85688713, -1.80599284, -1.75509855, -1.70420426, -1.65330997,\n",
       "        -1.60241568, -1.55152139, -1.5006271 , -1.44973281, -1.39883852,\n",
       "        -1.34794423, -1.29704994, -1.24615566, -1.19526137, -1.14436708,\n",
       "        -1.09347279, -1.0425785 , -0.99168421, -0.94078992, -0.88989563,\n",
       "        -0.83900134, -0.78810705, -0.73721276, -0.68631847, -0.63542419,\n",
       "        -0.5845299 , -0.53363561, -0.48274132, -0.43184703, -0.38095274,\n",
       "        -0.33005845, -0.27916416, -0.22826987, -0.17737558, -0.12648129,\n",
       "        -0.07558701, -0.02469272,  0.02620157,  0.07709586,  0.12799015,\n",
       "         0.17888444,  0.22977873,  0.28067302,  0.33156731,  0.3824616 ,\n",
       "         0.43335589,  0.48425018,  0.53514446,  0.58603875,  0.63693304,\n",
       "         0.68782733,  0.73872162,  0.78961591,  0.8405102 ,  0.89140449,\n",
       "         0.94229878,  0.99319307,  1.04408736,  1.09498164,  1.14587593,\n",
       "         1.19677022,  1.24766451,  1.2985588 ,  1.34945309,  1.40034738,\n",
       "         1.45124167,  1.50213596,  1.55303025,  1.60392454,  1.65481883,\n",
       "         1.70571311,  1.7566074 ,  1.80750169,  1.85839598,  1.90929027,\n",
       "         1.96018456,  2.01107885,  2.06197314,  2.11286743,  2.16376172,\n",
       "         2.21465601,  2.26555029,  2.31644458,  2.36733887,  2.41823316,\n",
       "         2.46912745,  2.52002174,  2.57091603,  2.62181032,  2.67270461,\n",
       "         2.7235989 ]),\n",
       " <BarContainer object of 100 artists>)"
      ]
     },
     "execution_count": 37,
     "metadata": {},
     "output_type": "execute_result"
    },
    {
     "data": {
      "image/png": "[encoded data removed]",
      "text/plain": [
       "<Figure size 640x480 with 4 Axes>"
      ]
     },
     "metadata": {},
     "output_type": "display_data"
    }
   ],
   "source": [
    "import matplotlib.pyplot as plt\n",
    "# plt.plot(data)\n",
    "\n",
    "# Figures and Subplots\n",
    "fig = plt.figure() # return axis and figures\n",
    "ax1 = fig.add_subplot(2,2,1) # 2 rows, 2 columns and 1st position\n",
    "ax2 = fig.add_subplot(2,2,2) # 2 rows, 2 columns and 2nd position\n",
    "ax3 = fig.add_subplot(2,2,3) # 2 rows, 2 columns and 3rd position\n",
    "ax4 = fig.add_subplot(2,2,4) # 2 rows, 2 columns and 4th position\n",
    "\n",
    "\n",
    "data1= np.random.randn(100)\n",
    "ax1.hist(data1, bins=10, color = 'r', alpha = 0.5)\n",
    "ax2.hist(data1, bins=20, color = 'k', alpha = 0.5)\n",
    "ax3.hist(data1, bins=50, color = 'b', alpha = 0.5)\n",
    "ax4.hist(data1, bins=100, color = 'r', alpha = 0.5)\n"
   ]
  },
  {
   "cell_type": "code",
   "execution_count": 62,
   "metadata": {},
   "outputs": [
    {
     "data": {
      "text/plain": [
       "<matplotlib.patches.Rectangle at 0x12389c820>"
      ]
     },
     "execution_count": 62,
     "metadata": {},
     "output_type": "execute_result"
    },
    {
     "data": {
      "image/png": "[encoded data removed]",
      "text/plain": [
       "<Figure size 640x480 with 4 Axes>"
      ]
     },
     "metadata": {},
     "output_type": "display_data"
    }
   ],
   "source": [
    "fig = plt.figure()\n",
    "\n",
    "ax1 = fig.add_subplot(2,2,1)\n",
    "ax2 = fig.add_subplot(2,2,2)\n",
    "ax3 = fig.add_subplot(2,2,3)\n",
    "ax4 = fig.add_subplot(2,2,4)\n",
    "\n",
    "data5 = np.random.randint(10,100,20)\n",
    "#ax1.hist(data5, bins = 10, color='b' , alpha = 0.5) #bar\n",
    "ax3.plot(data5, color='b') #line #bo means blue and marks o\n",
    "ax2.scatter(data5, np.arange(20)) #dots\n",
    "ax4.plot(data5, 'k-', drawstyle='steps-post', label='steps-post')\n",
    "\n",
    "# ticks = ax1.set_xticks([0, 250, 500, 750, 1000])\n",
    "# ax.set_title('My first matplotlib plot')\n",
    "# ax.set_xlabel('Stages')\n",
    "\n",
    "rect = plt.Rectangle((0.2, 0.75), 0.4, 0.15, color='k', alpha=0.3)\n",
    "ax1.add_patch(rect)\n"
   ]
  },
  {
   "cell_type": "code",
   "execution_count": 65,
   "metadata": {},
   "outputs": [
    {
     "data": {
      "text/plain": [
       "<Axes: >"
      ]
     },
     "execution_count": 65,
     "metadata": {},
     "output_type": "execute_result"
    },
    {
     "data": {
      "image/png": "[encoded data removed]",
      "text/plain": [
       "<Figure size 640x480 with 1 Axes>"
      ]
     },
     "metadata": {},
     "output_type": "display_data"
    }
   ],
   "source": [
    "# font_options = {'family' : 'monospace',\n",
    "# 'weight' : 'bold',\n",
    "# 'size' : 'small'}\n",
    "# plt.rc('font', **font_options)\n",
    "\n",
    "from matplotlib import axes\n",
    "\n",
    "\n",
    "data5.plot.bar(ax=axes[0], color='k', alpha=0.7)\n",
    "\n",
    "s = pd.Series(np.random.randn(10).cumsum(), index=np.arange(0, 100, 10))\n",
    "s.plot()"
   ]
  },
  {
   "cell_type": "code",
   "execution_count": 69,
   "metadata": {},
   "outputs": [
    {
     "data": {
      "text/plain": [
       "<Axes: >"
      ]
     },
     "execution_count": 69,
     "metadata": {},
     "output_type": "execute_result"
    },
    {
     "data": {
      "image/png": "[encoded data removed]",
      "text/plain": [
       "<Figure size 640x480 with 1 Axes>"
      ]
     },
     "metadata": {},
     "output_type": "display_data"
    },
    {
     "data": {
      "image/png": "[encoded data removed]",
      "text/plain": [
       "<Figure size 640x480 with 1 Axes>"
      ]
     },
     "metadata": {},
     "output_type": "display_data"
    }
   ],
   "source": [
    "df = pd.DataFrame(np.random.rand(6, 4), index=['one', 'two', 'three', 'four', 'five', 'six'],columns=pd.Index(['A', 'B', 'C', 'D'], name='Genus'))\n",
    "df.plot.bar()\n",
    "df.plot.barh(stacked=True, alpha=0.5)"
   ]
  },
  {
   "cell_type": "code",
   "execution_count": null,
   "metadata": {},
   "outputs": [],
   "source": [
    "#Test whether the elements of a given 1D array are zero, non-zero and NaN. Record the indices of these elements in three separate arrays.\n",
    "\n",
    "# Input:\n",
    "# arr1 = [1, 0, 2, 0, 3, 0, 0, 0, 4, 5, 6, 7, 8]\n",
    "# arr2 = [1, 0, np.nan, np.nan, np.nan, 0, 0, 0, 4, 5, 6, 7, 8]\n",
    "\n",
    "# Output:\n",
    "# Non-zero elements indices of arr1: [0 2 4 8 9 10 11 12]\n",
    "# Non-zero elements indices of arr2: [0 9 10 11 12]\n",
    "# Zero elements indices of arr1: [1 3 5 6 7]\n",
    "# Zero elements indices of arr2: [1 5 6 7]\n",
    "\n",
    "\n",
    "arr1 = np.array([1, 0, 2, 0, 3, 0, 0, 0, 4, 5, 6, 7, 8])\n",
    "arr2 = np.array([1, 0, np.nan, np.nan, np.nan, 0, 0, 0, 4, 5, 6, 7, 8])\n",
    "\n",
    "print(\"Non-zero elements indices of arr1:\", np.nonzero(arr1)[0])\n",
    "print(\"Non-zero elements indices of arr2:\", np.nonzero(arr2)[0])\n",
    "print(\"Zero elements indices of arr1:\", np.where(arr1 == 0)[0])\n",
    "print(\"Zero elements indices of arr2:\", np.where(arr2 == 0)[0])\n",
    "print(\"NaN elements indices of arr2:\", np.where(np.isnan(arr2))[0])\n"
   ]
  },
  {
   "cell_type": "code",
   "execution_count": null,
   "metadata": {},
   "outputs": [],
   "source": []
  }
 ],
 "metadata": {
  "kernelspec": {
   "display_name": "Python 3",
   "language": "python",
   "name": "python3"
  },
  "language_info": {
   "codemirror_mode": {
    "name": "ipython",
    "version": 3
   },
   "file_extension": ".py",
   "mimetype": "text/x-python",
   "name": "python",
   "nbconvert_exporter": "python",
   "pygments_lexer": "ipython3",
   "version": "3.9.6"
  },
  "orig_nbformat": 4
 },
 "nbformat": 4,
 "nbformat_minor": 2
}
