{
 "cells": [
  {
   "cell_type": "code",
   "execution_count": null,
   "metadata": {},
   "outputs": [],
   "source": []
  },
  {
   "cell_type": "code",
   "execution_count": null,
   "metadata": {},
   "outputs": [],
   "source": [
    "import pandas as pd\n",
    "\n",
    "# Read the data from two Excel files into two separate DataFrames\n",
    "file1 = 'workshop1_attendance.xlsx'\n",
    "file2 = 'workshop2_attendance.xlsx'\n",
    "\n",
    "df1 = pd.read_excel(file1)\n",
    "df2 = pd.read_excel(file2)\n",
    "\n",
    "# a. Merge the two dataframes to find names of students who attended both workshops\n",
    "both_attended = pd.merge(df1, df2, on='Name', how='inner')\n",
    "names_both_workshops = both_attended['Name'].unique()\n",
    "print(\"Names of students who attended both workshops:\")\n",
    "print(names_both_workshops)\n",
    "\n",
    "# b. Find names of students who attended a single workshop only\n",
    "attended_either = pd.merge(df1, df2, on='Name', how='outer', indicator=True)\n",
    "attended_single_workshop = attended_either[attended_either['_merge'] != 'both']\n",
    "names_single_workshop = attended_single_workshop['Name'].unique()\n",
    "print(\"\\nNames of students who attended a single workshop only:\")\n",
    "print(names_single_workshop)\n",
    "\n",
    "# c. Merge two dataframes row-wise and find the total number of records\n",
    "merged_rowwise = pd.concat([df1, df2])\n",
    "total_records = merged_rowwise.shape[0]\n",
    "print(\"\\nTotal number of records after merging row-wise:\")\n",
    "print(total_records)\n",
    "\n",
    "# d. Merge two dataframes row-wise and use 'names' and 'dates' as multi-row indexes.\n",
    "merged_hierarchical = pd.concat([df1.set_index(['Name', 'Date']), df2.set_index(['Name', 'Date'])])\n",
    "descriptive_stats = merged_hierarchical.groupby(level=[0, 1]).describe()\n",
    "print(\"\\nDescriptive statistics for hierarchical data:\")\n",
    "print(descriptive_stats)\n"
   ]
  }
 ],
 "metadata": {
  "language_info": {
   "name": "python"
  },
  "orig_nbformat": 4
 },
 "nbformat": 4,
 "nbformat_minor": 2
}
