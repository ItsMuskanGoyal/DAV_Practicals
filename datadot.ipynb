{
 "cells": [
  {
   "cell_type": "code",
   "execution_count": null,
   "metadata": {},
   "outputs": [],
   "source": [
    "import pandas as pd\n",
    "\n",
    "# Create the DataFrame\n",
    "data = {\n",
    "    'FamilyName': ['Shah', 'Vats', 'Vats', 'Kumar', 'Vats', 'Kumar', 'Shah', 'Shah', 'Kumar', 'Vats'],\n",
    "    'Gender': ['Male', 'Male', 'Female', 'Female', 'Female', 'Male', 'Male', 'Female', 'Male', 'Male'],\n",
    "    'MonthlyIncome': [44000.00, 65000.00, 43150.00, 66500.00, 255000.00, 103000.00, 55000.00, 112400.00, 81030.00, 71900.00]\n",
    "}\n",
    "\n",
    "df = pd.DataFrame(data)\n",
    "\n",
    "# a. Calculate and display familywise gross monthly income\n",
    "familywise_income = df.groupby('FamilyName')['MonthlyIncome'].sum()\n",
    "print(\"Familywise gross monthly income:\")\n",
    "print(familywise_income)\n",
    "\n",
    "# b. Display the highest and lowest monthly income for each family name\n",
    "highest_incomes = df.groupby('FamilyName')['MonthlyIncome'].max()\n",
    "lowest_incomes = df.groupby('FamilyName')['MonthlyIncome'].min()\n",
    "print(\"\\nHighest monthly income for each family name:\")\n",
    "print(highest_incomes)\n",
    "print(\"\\nLowest monthly income for each family name:\")\n",
    "print(lowest_incomes)\n",
    "\n",
    "# c. Calculate and display monthly income of all members earning income less than Rs. 80000.00\n",
    "income_less_than_80k = df[df['MonthlyIncome'] < 80000]['MonthlyIncome']\n",
    "print(\"\\nMonthly income of members earning less than Rs. 80000.00:\")\n",
    "print(income_less_than_80k)\n",
    "\n",
    "# d. Display total number of females along with their average monthly income\n",
    "female_data = df[df['Gender'] == 'Female']\n",
    "total_females = female_data.shape[0]\n",
    "average_income_females = female_data['MonthlyIncome'].mean()\n",
    "print(f\"\\nTotal number of females: {total_females}\")\n",
    "print(f\"Average monthly income of females: {average_income_females:.2f}\")\n",
    "\n",
    "# e. Delete rows with Monthly income less than the average income of all members\n",
    "average_income_all = df['MonthlyIncome'].mean()\n",
    "df = df[df['MonthlyIncome'] >= average_income_all]\n",
    "print(\"\\nData after deleting rows with income less than average income of all members:\")\n",
    "print(df)\n"
   ]
  }
 ],
 "metadata": {
  "language_info": {
   "name": "python"
  },
  "orig_nbformat": 4
 },
 "nbformat": 4,
 "nbformat_minor": 2
}
