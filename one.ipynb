{
 "cells": [
  {
   "cell_type": "code",
   "execution_count": null,
   "metadata": {},
   "outputs": [],
   "source": [
    "import numpy as np\n",
    "ages = [20, 22, 25, 27, 21, 23, 37, 31, 61, 45, 41, 32]\n",
    "bins = [18, 25, 35, 60, 100]\n",
    "cats = pd.cut(ages, bins)\n",
    "print(cats)\n",
    "pd.value_counts(cats)\n",
    "data = pd.DataFrame([[1., 6.5, 3.], [1., np.NaN, np.NaN], [np.NaN, np.NaN, np.NaN], [np.NaN, 6.5, 3.]])\n",
    "print(data)\n",
    "print(data.dropna(how='all'))\n",
    "print(data.dropna(axis=1, how='all'))\n",
    "print(data.dropna(thresh=2))"
   ]
  },
  {
   "cell_type": "code",
   "execution_count": null,
   "metadata": {},
   "outputs": [],
   "source": [
    "import numpy as np\n",
    "ages = [20, 22, 25, 27, 21, 23, 37, 31, 61, 45, 41, 32]\n",
    "bins = [18, 25, 35, 60, 100]\n",
    "cats = pd.cut(ages, bins)\n",
    "print(cats)\n",
    "pd.value_counts(cats)\n",
    "data = pd.DataFrame([[1., 6.5, 3.], [1., np.NaN, np.NaN], [np.NaN, np.NaN, np.NaN], [np.NaN, 6.5, 3.]])\n",
    "print(data)\n",
    "print(data.dropna(how='all'))\n",
    "print(data.dropna(axis=1, how='all'))\n",
    "print(data.dropna(thresh=2))"
   ]
  },
  {
   "cell_type": "code",
   "execution_count": null,
   "metadata": {},
   "outputs": [],
   "source": []
  }
 ],
 "metadata": {
  "language_info": {
   "name": "python"
  },
  "orig_nbformat": 4
 },
 "nbformat": 4,
 "nbformat_minor": 2
}
