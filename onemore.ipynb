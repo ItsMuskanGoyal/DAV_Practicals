{
 "cells": [
  {
   "cell_type": "code",
   "execution_count": null,
   "metadata": {},
   "outputs": [],
   "source": [
    "#Create 3 series using different methods of random numbers. Explore all options of arguments in random number generation"
   ]
  },
  {
   "cell_type": "code",
   "execution_count": null,
   "metadata": {},
   "outputs": [],
   "source": []
  },
  {
   "cell_type": "markdown",
   "metadata": {},
   "source": [
    "Q1. In the read_csv() function, explain the purpose of the following arguments with an example:\n",
    "I) sep\n",
    "ii) header\n",
    "iii) index_col\n",
    "iv) skiprows\n",
    "v) nrow\n",
    "\n",
    "i) sep: It is used to specify the delimiter to use while reading a CSV file. By default, it is ','.\n",
    "ii) header: It is used to specify the row number to be used as the column names and the start of the data. By default, it is 0.\n",
    "iii) index_col: It is used to specify the column to be used as the row labels of the DataFrame. By default, it is None.\n",
    "iv) skiprows: It is used to specify the number of rows to skip while reading a CSV file.\n",
    "v) nrow: It is used to specify the number of rows to be read from a CSV file.\n",
    "\n",
    "\n",
    "                "
   ]
  },
  {
   "cell_type": "code",
   "execution_count": null,
   "metadata": {},
   "outputs": [],
   "source": []
  }
 ],
 "metadata": {
  "language_info": {
   "name": "python"
  },
  "orig_nbformat": 4
 },
 "nbformat": 4,
 "nbformat_minor": 2
}
