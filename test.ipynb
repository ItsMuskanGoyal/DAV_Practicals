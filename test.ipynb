{
 "cells": [
  {
   "cell_type": "code",
   "execution_count": 19,
   "metadata": {},
   "outputs": [],
   "source": [
    "import pandas as pd\n",
    "import numpy as np\n"
   ]
  },
  {
   "cell_type": "code",
   "execution_count": 20,
   "metadata": {},
   "outputs": [
    {
     "ename": "ValueError",
     "evalue": "operands could not be broadcast together with shapes (3,) (2,) ",
     "output_type": "error",
     "traceback": [
      "\u001b[0;31m---------------------------------------------------------------------------\u001b[0m",
      "\u001b[0;31mValueError\u001b[0m                                Traceback (most recent call last)",
      "Cell \u001b[0;32mIn[20], line 11\u001b[0m\n\u001b[1;32m      8\u001b[0m g \u001b[39m=\u001b[39m np\u001b[39m.\u001b[39mlinspace(\u001b[39m0\u001b[39m, \u001b[39m1\u001b[39m, \u001b[39m5\u001b[39m)                     \u001b[39m# Create an array with evenly spaced values\u001b[39;00m\n\u001b[1;32m     10\u001b[0m \u001b[39m# Various Functions of NumPy\u001b[39;00m\n\u001b[0;32m---> 11\u001b[0m sum_a_b \u001b[39m=\u001b[39m a \u001b[39m+\u001b[39;49m b[\u001b[39m0\u001b[39;49m]                           \u001b[39m# Element-wise addition\u001b[39;00m\n\u001b[1;32m     12\u001b[0m prod_a_b \u001b[39m=\u001b[39m a \u001b[39m*\u001b[39m b[\u001b[39m0\u001b[39m]                          \u001b[39m# Element-wise multiplication\u001b[39;00m\n\u001b[1;32m     13\u001b[0m mean_a \u001b[39m=\u001b[39m np\u001b[39m.\u001b[39mmean(a)                          \u001b[39m# Calculate the mean of array a\u001b[39;00m\n",
      "\u001b[0;31mValueError\u001b[0m: operands could not be broadcast together with shapes (3,) (2,) "
     ]
    }
   ],
   "source": [
    "# Creating NumPy Arrays\n",
    "a = np.array([1, 2, 3])                      # Create a 1D array from a list\n",
    "b = np.array([[1, 2], [3, 4]])               # Create a 2D array (matrix)\n",
    "c = np.zeros((2, 2))                         # Create an array of zeros\n",
    "d = np.ones((1, 3))                          # Create an array of ones\n",
    "e = np.full((3, 3), 7)                       # Create a constant array\n",
    "f = np.arange(0, 10, 2)                      # Create an array with a range of values\n",
    "g = np.linspace(0, 1, 5)                     # Create an array with evenly spaced values\n",
    "\n",
    "# Various Functions of NumPy\n",
    "sum_a_b = a + b[0]                           # Element-wise addition\n",
    "prod_a_b = a * b[0]                          # Element-wise multiplication\n",
    "mean_a = np.mean(a)                          # Calculate the mean of array a\n",
    "std_a = np.std(a)                            # Calculate the standard deviation of array a\n",
    "\n",
    "# Data Types of NumPy Arrays\n",
    "h = np.array([1, 2, 3], dtype=np.float64)    # Specifying the data type\n",
    "\n",
    "# Indexing and Slicing\n",
    "first_element = a[0]                         # Access the first element\n",
    "slice_of_a = a[1:3]                          # Slice the array from index 1 to 2\n",
    "\n",
    "# Swapping Axes\n",
    "i = np.array([[1, 2, 3]])                    # 2D array (1 row, 3 columns)\n",
    "i_swapped = np.swapaxes(i, 0, 1)             # Swap rows and columns\n",
    "\n",
    "# Transposing Arrays\n",
    "j = np.array([[1, 2], [3, 4]])\n",
    "j_transposed = j.T                           # Transpose the 2D array\n",
    "\n",
    "# Data Processing Using Numpy Arrays\n",
    "k = np.sqrt(a)                               # Square root of each element in array a\n",
    "\n",
    "# Random Number Generation\n",
    "l = np.random.rand(2, 2)                     # Random numbers from a uniform distribution\n",
    "m = np.random.randn(2, 2)                    # Random numbers from a standard normal distribution\n",
    "n = np.random.randint(0, 10, (2, 2))         # Random integers within a specified range\n",
    "\n",
    "# This script provides a quick overview and examples of key NumPy functionalities.\n"
   ]
  },
  {
   "cell_type": "code",
   "execution_count": 21,
   "metadata": {},
   "outputs": [
    {
     "name": "stdout",
     "output_type": "stream",
     "text": [
      "   A  B\n",
      "0  1  3\n",
      "1  2  4\n",
      "0  5  7\n",
      "1  6  8\n",
      "   A  B  A  B\n",
      "0  1  3  5  7\n",
      "1  2  4  6  8\n"
     ]
    },
    {
     "ename": "NameError",
     "evalue": "name 'left_df' is not defined",
     "output_type": "error",
     "traceback": [
      "\u001b[0;31m---------------------------------------------------------------------------\u001b[0m",
      "\u001b[0;31mNameError\u001b[0m                                 Traceback (most recent call last)",
      "Cell \u001b[0;32mIn[21], line 17\u001b[0m\n\u001b[1;32m     14\u001b[0m \u001b[39mprint\u001b[39m(concatenated_df)\n\u001b[1;32m     16\u001b[0m \u001b[39m# Merge with outer join\u001b[39;00m\n\u001b[0;32m---> 17\u001b[0m merged_df \u001b[39m=\u001b[39m pd\u001b[39m.\u001b[39mmerge(left_df, right_df, on\u001b[39m=\u001b[39m\u001b[39m'\u001b[39m\u001b[39mKeyColumn\u001b[39m\u001b[39m'\u001b[39m, how\u001b[39m=\u001b[39m\u001b[39m'\u001b[39m\u001b[39mouter\u001b[39m\u001b[39m'\u001b[39m)\n\u001b[1;32m     18\u001b[0m \u001b[39mprint\u001b[39m(merged_df)\n",
      "\u001b[0;31mNameError\u001b[0m: name 'left_df' is not defined"
     ]
    }
   ],
   "source": [
    "import pandas as pd\n",
    "\n",
    "# Create two DataFrames\n",
    "df1 = pd.DataFrame({'A': [1, 2], 'B': [3, 4]})\n",
    "df2 = pd.DataFrame({'A': [5, 6], 'B': [7, 8]})\n",
    "\n",
    "# Concatenate along rows\n",
    "concatenated_df = pd.concat([df1, df2], axis=0)\n",
    "print(concatenated_df)\n",
    "\n",
    "\n",
    "# Concatenate along columns\n",
    "concatenated_df = pd.concat([df1, df2], axis=1)\n",
    "print(concatenated_df)\n",
    "\n",
    "# Merge with outer join\n",
    "merged_df = pd.merge(left_df, right_df, on='KeyColumn', how='outer')\n",
    "print(merged_df)\n"
   ]
  },
  {
   "cell_type": "code",
   "execution_count": null,
   "metadata": {},
   "outputs": [],
   "source": []
  },
  {
   "cell_type": "code",
   "execution_count": null,
   "metadata": {},
   "outputs": [],
   "source": []
  },
  {
   "cell_type": "code",
   "execution_count": null,
   "metadata": {},
   "outputs": [],
   "source": [
    "# # Line plot\n",
    "# x = [1, 2, 3, 4]\n",
    "# y = [1, 4, 9, 16]\n",
    "# plt.plot(x, y)\n",
    "# plt.title(\"Simple Plot\")\n",
    "# plt.xlabel(\"x-axis\")\n",
    "# plt.ylabel(\"y-axis\")\n",
    "# plt.show()"
   ]
  },
  {
   "cell_type": "code",
   "execution_count": null,
   "metadata": {},
   "outputs": [
    {
     "name": "stdout",
     "output_type": "stream",
     "text": [
      "        0\n",
      "0   Geeks\n",
      "1     For\n",
      "2   Geeks\n",
      "3      is\n",
      "4  portal\n",
      "5     for\n",
      "6   Geeks\n"
     ]
    },
    {
     "data": {
      "text/html": [
       "<div>\n",
       "<style scoped>\n",
       "    .dataframe tbody tr th:only-of-type {\n",
       "        vertical-align: middle;\n",
       "    }\n",
       "\n",
       "    .dataframe tbody tr th {\n",
       "        vertical-align: top;\n",
       "    }\n",
       "\n",
       "    .dataframe thead th {\n",
       "        text-align: right;\n",
       "    }\n",
       "</style>\n",
       "<table border=\"1\" class=\"dataframe\">\n",
       "  <thead>\n",
       "    <tr style=\"text-align: right;\">\n",
       "      <th></th>\n",
       "      <th>Name</th>\n",
       "      <th>Team</th>\n",
       "      <th>Number</th>\n",
       "      <th>Position</th>\n",
       "      <th>Age</th>\n",
       "      <th>Height</th>\n",
       "      <th>Weight</th>\n",
       "      <th>College</th>\n",
       "      <th>Salary</th>\n",
       "    </tr>\n",
       "  </thead>\n",
       "  <tbody>\n",
       "    <tr>\n",
       "      <th>0</th>\n",
       "      <td>Avery Bradley</td>\n",
       "      <td>Boston Celtics</td>\n",
       "      <td>0.0</td>\n",
       "      <td>PG</td>\n",
       "      <td>25.0</td>\n",
       "      <td>6-2</td>\n",
       "      <td>180.0</td>\n",
       "      <td>Texas</td>\n",
       "      <td>7730337.0</td>\n",
       "    </tr>\n",
       "    <tr>\n",
       "      <th>1</th>\n",
       "      <td>Jae Crowder</td>\n",
       "      <td>Boston Celtics</td>\n",
       "      <td>99.0</td>\n",
       "      <td>SF</td>\n",
       "      <td>25.0</td>\n",
       "      <td>6-6</td>\n",
       "      <td>235.0</td>\n",
       "      <td>Marquette</td>\n",
       "      <td>6796117.0</td>\n",
       "    </tr>\n",
       "    <tr>\n",
       "      <th>2</th>\n",
       "      <td>John Holland</td>\n",
       "      <td>Boston Celtics</td>\n",
       "      <td>30.0</td>\n",
       "      <td>SG</td>\n",
       "      <td>27.0</td>\n",
       "      <td>6-5</td>\n",
       "      <td>205.0</td>\n",
       "      <td>Boston University</td>\n",
       "      <td>NaN</td>\n",
       "    </tr>\n",
       "    <tr>\n",
       "      <th>3</th>\n",
       "      <td>R.J. Hunter</td>\n",
       "      <td>Boston Celtics</td>\n",
       "      <td>28.0</td>\n",
       "      <td>SG</td>\n",
       "      <td>22.0</td>\n",
       "      <td>6-5</td>\n",
       "      <td>185.0</td>\n",
       "      <td>Georgia State</td>\n",
       "      <td>1148640.0</td>\n",
       "    </tr>\n",
       "    <tr>\n",
       "      <th>4</th>\n",
       "      <td>Jonas Jerebko</td>\n",
       "      <td>Boston Celtics</td>\n",
       "      <td>8.0</td>\n",
       "      <td>PF</td>\n",
       "      <td>29.0</td>\n",
       "      <td>6-10</td>\n",
       "      <td>231.0</td>\n",
       "      <td>NaN</td>\n",
       "      <td>5000000.0</td>\n",
       "    </tr>\n",
       "  </tbody>\n",
       "</table>\n",
       "</div>"
      ],
      "text/plain": [
       "            Name            Team  Number Position   Age Height  Weight  \\\n",
       "0  Avery Bradley  Boston Celtics     0.0       PG  25.0    6-2   180.0   \n",
       "1    Jae Crowder  Boston Celtics    99.0       SF  25.0    6-6   235.0   \n",
       "2   John Holland  Boston Celtics    30.0       SG  27.0    6-5   205.0   \n",
       "3    R.J. Hunter  Boston Celtics    28.0       SG  22.0    6-5   185.0   \n",
       "4  Jonas Jerebko  Boston Celtics     8.0       PF  29.0   6-10   231.0   \n",
       "\n",
       "             College     Salary  \n",
       "0              Texas  7730337.0  \n",
       "1          Marquette  6796117.0  \n",
       "2  Boston University        NaN  \n",
       "3      Georgia State  1148640.0  \n",
       "4                NaN  5000000.0  "
      ]
     },
     "execution_count": 17,
     "metadata": {},
     "output_type": "execute_result"
    }
   ],
   "source": [
    "# list of strings\n",
    "lst = ['Geeks', 'For', 'Geeks', 'is','portal', 'for', 'Geeks']\n",
    "# Calling DataFrame constructor on list\n",
    "df = pd.DataFrame(lst)\n",
    "print(df)\n",
    "\n",
    "\n",
    "data = np.array(['g', 'e', 'e', 'k', 's'])\n",
    "ser = pd.Series(data)\n",
    "\n",
    "# making data frame \n",
    "data = pd.read_csv(\"https://media.geeksforgeeks.org/wp-content/uploads/nba.csv\") \n",
    "\n",
    "data.head()\n"
   ]
  },
  {
   "cell_type": "code",
   "execution_count": null,
   "metadata": {},
   "outputs": [
    {
     "data": {
      "text/html": [
       "<div>\n",
       "<style scoped>\n",
       "    .dataframe tbody tr th:only-of-type {\n",
       "        vertical-align: middle;\n",
       "    }\n",
       "\n",
       "    .dataframe tbody tr th {\n",
       "        vertical-align: top;\n",
       "    }\n",
       "\n",
       "    .dataframe thead th {\n",
       "        text-align: right;\n",
       "    }\n",
       "</style>\n",
       "<table border=\"1\" class=\"dataframe\">\n",
       "  <thead>\n",
       "    <tr style=\"text-align: right;\">\n",
       "      <th></th>\n",
       "      <th>col1</th>\n",
       "      <th>col2</th>\n",
       "    </tr>\n",
       "  </thead>\n",
       "  <tbody>\n",
       "    <tr>\n",
       "      <th>0</th>\n",
       "      <td>1</td>\n",
       "      <td>2</td>\n",
       "    </tr>\n",
       "    <tr>\n",
       "      <th>1</th>\n",
       "      <td>Ashish</td>\n",
       "      <td>Sid</td>\n",
       "    </tr>\n",
       "  </tbody>\n",
       "</table>\n",
       "</div>"
      ],
      "text/plain": [
       "     col1 col2\n",
       "0       1    2\n",
       "1  Ashish  Sid"
      ]
     },
     "execution_count": 8,
     "metadata": {},
     "output_type": "execute_result"
    }
   ],
   "source": [
    "s1 = pd.Series([1,2])\n",
    "s2 = pd.Series([\"Ashish\",\"Sid\"])\n",
    "\n",
    "df = pd.DataFrame([s1,s2])\n",
    "\n",
    "df\n",
    "\n",
    "dframe = pd.DataFrame([[1,2],[\"Ashish\",\"Sid\"]],\n",
    "    index = [\"row1\",\"row2\"],\n",
    "    columns = [\"col1\",\"col2\"])\n",
    "dframe\n",
    "\n",
    "dframe = pd.DataFrame({\n",
    "    \"col1\":[1,\"Ashish\"],\n",
    "    \"col2\":[2,\"Sid\"]\n",
    "})\n",
    "\n",
    "dframe"
   ]
  },
  {
   "cell_type": "code",
   "execution_count": null,
   "metadata": {},
   "outputs": [],
   "source": []
  },
  {
   "cell_type": "code",
   "execution_count": null,
   "metadata": {},
   "outputs": [],
   "source": []
  }
 ],
 "metadata": {
  "kernelspec": {
   "display_name": "Python 3",
   "language": "python",
   "name": "python3"
  },
  "language_info": {
   "codemirror_mode": {
    "name": "ipython",
    "version": 3
   },
   "file_extension": ".py",
   "mimetype": "text/x-python",
   "name": "python",
   "nbconvert_exporter": "python",
   "pygments_lexer": "ipython3",
   "version": "3.9.6"
  },
  "orig_nbformat": 4
 },
 "nbformat": 4,
 "nbformat_minor": 2
}
